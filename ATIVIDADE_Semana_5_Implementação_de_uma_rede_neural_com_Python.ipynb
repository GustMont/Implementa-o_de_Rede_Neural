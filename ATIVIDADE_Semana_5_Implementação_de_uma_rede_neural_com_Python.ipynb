{
  "nbformat": 4,
  "nbformat_minor": 0,
  "metadata": {
    "colab": {
      "provenance": [],
      "authorship_tag": "ABX9TyPTsSeBvaGf7S6bQoy/lcdo",
      "include_colab_link": true
    },
    "kernelspec": {
      "name": "python3",
      "display_name": "Python 3"
    },
    "language_info": {
      "name": "python"
    }
  },
  "cells": [
    {
      "cell_type": "markdown",
      "metadata": {
        "id": "view-in-github",
        "colab_type": "text"
      },
      "source": [
        "<a href=\"https://colab.research.google.com/github/GustMont/Implementacao_de_Rede_Neural/blob/main/ATIVIDADE_Semana_5_Implementa%C3%A7%C3%A3o_de_uma_rede_neural_com_Python.ipynb\" target=\"_parent\"><img src=\"https://colab.research.google.com/assets/colab-badge.svg\" alt=\"Open In Colab\"/></a>"
      ]
    },
    {
      "cell_type": "markdown",
      "source": [
        "# ATIVIDADE: Implementação de uma rede neural com Python"
      ],
      "metadata": {
        "id": "5bzSrvEx8Ve3"
      }
    },
    {
      "cell_type": "markdown",
      "source": [
        "* Leia o tutorial de Rede Neural usando Keras e Tensorflow (https://www.tensorflow.org/tutorials/keras/text_classification?hl=pt-br).\n",
        "\n",
        "* Desenvolva seu código Python no Google Colab a partir do código apresentado no tutorial e organize as etapas com suas respectivas descrições.\n",
        "\n",
        "* Exporte o modelo treinado usando a biblioteca pickle, e crie uma função que recebe um novo dado e o modelo treinado, e retorna o resultado da classificação realizada.\n",
        "\n",
        "* Desafio: realize adaptações no seu código para realizar a classificação binária de \"recomendação para um amigo\" do dataset da B2W (https://github.com/americanas-tech/b2w-reviews01/blob/main/B2W-Reviews01.csv)."
      ],
      "metadata": {
        "id": "DgAD1E4J8hLb"
      }
    },
    {
      "cell_type": "markdown",
      "source": [
        "## Instalação de bibliotecas"
      ],
      "metadata": {
        "id": "3Qb-Xyrh9k1u"
      }
    },
    {
      "cell_type": "code",
      "execution_count": null,
      "metadata": {
        "id": "HMRRsCQjXk42"
      },
      "outputs": [],
      "source": [
        "import tensorflow as tf\n",
        "from tensorflow import keras\n",
        "\n",
        "import numpy as np\n",
        "import pickle"
      ]
    },
    {
      "cell_type": "markdown",
      "source": [
        "## Base de dados\n",
        "Utilização da bibliotela Keras para carregar um conjunto de dados que será utilizado para o processamento para análise de sentimento"
      ],
      "metadata": {
        "id": "AGpt8DnQ-SkY"
      }
    },
    {
      "cell_type": "code",
      "source": [
        "imdb = keras.datasets.imdb\n",
        "\n",
        "(train_data, train_labels), (test_data, test_labels) = imdb.load_data(num_words=10000)"
      ],
      "metadata": {
        "id": "_u7eWrRrYyj_"
      },
      "execution_count": null,
      "outputs": []
    },
    {
      "cell_type": "markdown",
      "source": [
        "## Mapeamento de palavras\n",
        "Nesta etapa são atribuídos os índices às palavras do conjunto de dados, permitindo a utilização em modelos de machine learning para processamento de linguagem natural"
      ],
      "metadata": {
        "id": "mhhDOUgF9rEK"
      }
    },
    {
      "cell_type": "code",
      "source": [
        "word_index = imdb.get_word_index()\n",
        "\n",
        "word_index = {k:(v+3) for k,v in word_index.items()}\n",
        "word_index[\"<PAD>\"] = 0\n",
        "word_index[\"<START>\"] = 1\n",
        "word_index[\"<UNK>\"] = 2\n",
        "word_index[\"<UNUSED>\"] = 3\n",
        "\n",
        "reverse_word_index = dict([(value, key) for (key, value) in word_index.items()])"
      ],
      "metadata": {
        "id": "9WC8rIMOY1c6"
      },
      "execution_count": null,
      "outputs": []
    },
    {
      "cell_type": "markdown",
      "source": [
        "## Separação dos dados em treino e teste"
      ],
      "metadata": {
        "id": "ImoY180tIkiv"
      }
    },
    {
      "cell_type": "code",
      "source": [
        "train_data = keras.preprocessing.sequence.pad_sequences(train_data,\n",
        "                                                        value=word_index[\"<PAD>\"],\n",
        "                                                        padding='post',\n",
        "                                                        maxlen=256)\n",
        "\n",
        "test_data = keras.preprocessing.sequence.pad_sequences(test_data,\n",
        "                                                       value=word_index[\"<PAD>\"],\n",
        "                                                       padding='post',\n",
        "                                                       maxlen=256)"
      ],
      "metadata": {
        "id": "xJTLU3bHZ2HP"
      },
      "execution_count": null,
      "outputs": []
    },
    {
      "cell_type": "markdown",
      "source": [
        "## Modelagem\n",
        "Modelo de classificação de análise de sentimento, mapeando em vetores de incoporação."
      ],
      "metadata": {
        "id": "DivMn_vm-AzH"
      }
    },
    {
      "cell_type": "code",
      "source": [
        "vocab_size = 10000\n",
        "\n",
        "model = keras.Sequential()\n",
        "model.add(keras.layers.Embedding(vocab_size, 16))\n",
        "model.add(keras.layers.GlobalAveragePooling1D())\n",
        "model.add(keras.layers.Dense(16, activation='relu'))\n",
        "model.add(keras.layers.Dense(1, activation='sigmoid'))\n",
        "\n",
        "model.summary()"
      ],
      "metadata": {
        "colab": {
          "base_uri": "https://localhost:8080/"
        },
        "id": "a7sgIknOVQrN",
        "outputId": "008359c4-3f1d-4bfb-ad12-a7e14cbf1f6f"
      },
      "execution_count": null,
      "outputs": [
        {
          "output_type": "stream",
          "name": "stdout",
          "text": [
            "Model: \"sequential\"\n",
            "_________________________________________________________________\n",
            " Layer (type)                Output Shape              Param #   \n",
            "=================================================================\n",
            " embedding (Embedding)       (None, None, 16)          160000    \n",
            "                                                                 \n",
            " global_average_pooling1d (G  (None, 16)               0         \n",
            " lobalAveragePooling1D)                                          \n",
            "                                                                 \n",
            " dense (Dense)               (None, 16)                272       \n",
            "                                                                 \n",
            " dense_1 (Dense)             (None, 1)                 17        \n",
            "                                                                 \n",
            "=================================================================\n",
            "Total params: 160,289\n",
            "Trainable params: 160,289\n",
            "Non-trainable params: 0\n",
            "_________________________________________________________________\n"
          ]
        }
      ]
    },
    {
      "cell_type": "markdown",
      "source": [
        "## Exportando modelo em Pickle"
      ],
      "metadata": {
        "id": "_X1zSpRQWpl5"
      }
    },
    {
      "cell_type": "code",
      "source": [
        "with open('modelo.pickle', 'wb') as arquivo:\n",
        "    pickle.dump(model, arquivo)"
      ],
      "metadata": {
        "id": "DN1ifRxHWvuh"
      },
      "execution_count": null,
      "outputs": []
    },
    {
      "cell_type": "code",
      "source": [
        "def classify_new_data(new_data, model_path):\n",
        "    with open(model_path, 'rb') as arquivo:\n",
        "        model = pickle.load(arquivo)\n",
        "\n",
        "    new_data = keras.preprocessing.sequence.pad_sequences([new_data],\n",
        "                                                          value=word_index[\"<PAD>\"],\n",
        "                                                          padding='post',\n",
        "                                                          maxlen=256)\n",
        "    prediction = model.predict(new_data)\n",
        "    return prediction[0][0]"
      ],
      "metadata": {
        "id": "29XButolXl_g"
      },
      "execution_count": null,
      "outputs": []
    },
    {
      "cell_type": "code",
      "source": [
        "new_data = [3, 89, 12, 7, 128, 45, 90]\n",
        "model_path = 'modelo.pickle'\n",
        "\n",
        "classification_result = classify_new_data(new_data, model_path)\n",
        "print(f\"Resultado da classificação: {classification_result}\")"
      ],
      "metadata": {
        "colab": {
          "base_uri": "https://localhost:8080/"
        },
        "id": "ZakKB1qHXqls",
        "outputId": "13aec805-13a5-4a4c-88b7-ee1d2a6b5d10"
      },
      "execution_count": null,
      "outputs": [
        {
          "output_type": "stream",
          "name": "stdout",
          "text": [
            "1/1 [==============================] - 0s 104ms/step\n",
            "Resultado da classificação: 0.5005006790161133\n"
          ]
        }
      ]
    }
  ]
}